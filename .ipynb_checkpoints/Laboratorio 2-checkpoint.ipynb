{
 "cells": [
  {
   "cell_type": "markdown",
   "metadata": {},
   "source": [
    "<table style=\"width:100%\">\n",
    "  <tr>\n",
    "    <th align=\"right\"><img src=\"img/dilogo.png\" style=\"float:left;height:90px\"></th>\n",
    "    <th align=\"center\">\n",
    "    <h1 align=\"center\">Laboratorio 2</h1>\n",
    "    <h2 align=\"center\">Profesor: Ricardo Ñanculef</h2>\n",
    "    <h3 align=\"center\">Ayudante: Gabriel Ortega</h3>\n",
    "    <h3 align=\"center\">Alumno1;rol;malla</h3>\n",
    "    <h3 align=\"center\">Alumno2;rol;malla</h3>\n",
    "    <h3 align=\"center\">Septiembre de 2019</h3>\n",
    "    </th> \n",
    "    <th align=\"left\"><img src=\"img/usmlogo.png\" style=\"float:right;height:85px\"></th>\n",
    "  </tr>"
   ]
  },
  {
   "cell_type": "markdown",
   "metadata": {},
   "source": [
    "> <font size = \"+2\"><b>Antes de corregir se correrá su notebook utilizando la función Cell $\\rightarrow$ Run All.</b> <br> <br>\n",
    "Es posible que las simulaciones en este laboratorio se tarden un poco más en ejecutarse, sin embargo, mantenga un tope de 5 minutos.\n",
    "</font>\n",
    "\n",
    "\n",
    "## Instrucciones\n",
    "\n",
    "La modalidad de trabajo será mediante el uso de jupyter notebook. El notebook debe ser desarrollado en parejas o individual y ser entregado el 15 de octubre de 2019.\n",
    "\n",
    "La **modalidad de entrega será un archivo Apellido1_Apellido2_Lab2.zip** que contenga un notebook que incluya todas las preguntas con sus respectivas respuestas, un README que indique la forma correcta de ejecutar su notebook y cualquier archivo/carpeta extra que considere necesario para el correcto funcionamiento de su tarea (no es necesario adjuntar los .csv que se utilicen para trabajar). El laboratorio puede ser trabajado tanto en lenguaje R como en python 3 (para los que usen python 2.X, absténganse a las consecuencias). Lea bien el enunciado.\n",
    "\n",
    "\n",
    "**Cualquier copia detectada implicará nota 0 en el laboratorio correspondiente y se notificará la situación al profesor.**\n",
    "\n",
    "\n"
   ]
  },
  {
   "cell_type": "markdown",
   "metadata": {},
   "source": [
    "## 1. La paradoja del cumpleaños\n",
    "\n",
    "La paradoja del cumpleaños es un problema matemático cuya respuesta es sorprendente dado el contexto del problema. En esta sección usted trabajará con este problema y podrá encontrar la respuesta que sorprendió a muchos. La paradoja es la siguiente: $N$ personas se reunen casualmente ¿Cuál es la probabilidad de que al menos 2 de ellas estén de cumpleaños el mismo día? **Considere año normal de 365 días.**\n",
    "\n",
    "> a) Plantee la obtención de esta probabilidad en función de N. *Hint:* $\\frac{Casos\\;favorables}{Casos\\;posibles}$\n"
   ]
  },
  {
   "cell_type": "code",
   "execution_count": null,
   "metadata": {},
   "outputs": [],
   "source": [
    "\"\"\"\n",
    "Se puede ver que la probabilidad de que al menos 2 personas compartan cumpleaños y que nadie lo haga son complementarias, \n",
    "así que la suma debe ser 1: p(c)+p(n)=1, donde c son los escenarios en que al menos 2 comparten cumpleaños y n es donde \n",
    "nadie comparte.\n",
    "\n",
    "La probabilidad de que nadie comparta se puede extrapolar del siguiente proceso:\n",
    "\n",
    "En un grupo de 2 personas, la probabilidad sería, 364/365, dado que si tomamos como pivote a la primera persona, la segunda \n",
    "tiene 364 días en los que cumplir años para no topar con el primero.\n",
    "\n",
    "En un grupo de 3 personas, la segunda persona sigue teniendo 364 días para no coincidir con la primera, pero la tercera persona \n",
    "tiene 363 días para cumplir años sin topar con los 2 primeros y dado que son eventos independientes, las probabilidades se \n",
    "multiplican quedando (364*363)/365^2\n",
    "\n",
    "Lo mismo para distintas cantidades de personas, por lo que para un N entre 2 y 365 queda:\n",
    "P(n) = 365!/((365-N)!*365^N)\n",
    "\n",
    "así que p(c) = 1 - p(n)\n",
    "\n",
    "\"\"\""
   ]
  },
  {
   "cell_type": "markdown",
   "metadata": {},
   "source": [
    "> b) Simule la paradoja del cumpleaños con varios $N \\in [2,365]$ y obtenga la probabilidad empírica de encontrar dos personas con el mismo cumpleaños. Luego haga un gráfico de estas probabilidades en función de $N$ y la fórmula obtenida en a) y compare. \n",
    "\n",
    "*Tip: Como el orden de ejecución es $N\\cdot Simulaciones$ no es necesario que vaya de 1 en 1 con los $N$ puede ir de 3 en 3, 5 en 5, etc.*"
   ]
  },
  {
   "cell_type": "code",
   "execution_count": 13,
   "metadata": {},
   "outputs": [
    {
     "data": {
      "image/png": "[encoded data removed]",
      "text/plain": [
       "<Figure size 432x288 with 1 Axes>"
      ]
     },
     "metadata": {
      "needs_background": "light"
     },
     "output_type": "display_data"
    }
   ],
   "source": [
    "from matplotlib import pyplot as plt\n",
    "from math import factorial as fact\n",
    "from random import randint\n",
    "\n",
    "x = list()\n",
    "y = list()\n",
    "for i in range(2, 365, 5):\n",
    "    prob = 0\n",
    "    for j in range(1000):\n",
    "        contador = dict()\n",
    "        for persona in range(i):\n",
    "            cumple = randint(1, 365)\n",
    "            if cumple in contador:\n",
    "                contador[cumple] += 1\n",
    "            else:\n",
    "                contador[cumple] = 1\n",
    "        \n",
    "        for valor in contador.values():\n",
    "            if valor > 1:\n",
    "                prob+=1\n",
    "        del contador\n",
    "    \n",
    "    y.append(prob/(i*1000))\n",
    "    x.append(i)\n",
    "    \n",
    "plt.plot(x, y, label=\"probabilidad simulada\")\n",
    "plt.xlabel(\"Valor de N\")\n",
    "plt.ylabel(\"probabilidad\")\n",
    "\n",
    "f = fact(365)\n",
    "\"\"\"P(c) =1 - 365!/((365-N)!*365^N)\"\"\"\n",
    "y = [1 - f/(fact(365-N)*(365**N)) for N in range(2, 365, 5)]\n",
    "x = list(range(2, 365, 5))    \n",
    "plt.plot(x, y, label=\"probabilidad teorica\")\n",
    "\n",
    "plt.legend()\n",
    "plt.show()"
   ]
  },
  {
   "cell_type": "markdown",
   "metadata": {},
   "source": [
    ">c) Mediante simulación obtenga la cantidad de personas necesarias que debe asistir a la reunión para que la probabilidad de que al menos 2 personas estén de cumpleaños sea: 50%, 70% y 95%. Luego, para cada cantidad encontrada compare el valor de su probabilidad teórica mediante la fórmula que encontró en a). \n",
    "\n",
    "¿A qué se debe que al encontrar un valor empírico y evaluarlo en la fórmula de a) se observe un valor diferente que el encontrado? Si esto no le sucedió en su simulación, responda poniéndose en la siguiente situación:\n",
    "\n",
    "- Su simulación le arrojó que 30 es el 50%\n",
    "- F(30) es 0.45, claramente no llega al 50% (de ejemplo solamente)\n",
    "\n",
    "\n",
    "\n",
    "¿A qué se debe ese error?"
   ]
  },
  {
   "cell_type": "code",
   "execution_count": null,
   "metadata": {},
   "outputs": [],
   "source": [
    "   "
   ]
  },
  {
   "cell_type": "markdown",
   "metadata": {},
   "source": [
    ">d) Si ahora nos interesa cuando 3, 4, 5 y 6 personas están de cumpleaños el mismo día. Realice un gráfico similar al del inciso b) pero esta vez con $P_{i}$ en función de $N$ donde $i \\in [2,6]$ Concluya respecto al comportamiento de las gráficas."
   ]
  },
  {
   "cell_type": "code",
   "execution_count": null,
   "metadata": {},
   "outputs": [],
   "source": []
  },
  {
   "cell_type": "markdown",
   "metadata": {},
   "source": [
    ">e) Debido a una falla espacio-temporal usted ha sido re-ubicado a otra dimensión donde los años tienen 1000 días. Necesita comprar algo para comer y no morir de hambre mientras los científicos de dicho universo lo intentan enviar de vuelta a casa. Usted ha decidido apostar con una persona con la base de la paradoja del cumpleaños. ¿Cuántas personas debería haber en la junta para tener al menos una certeza del 90% de que ganará la apuesta?"
   ]
  },
  {
   "cell_type": "code",
   "execution_count": null,
   "metadata": {},
   "outputs": [],
   "source": []
  },
  {
   "cell_type": "markdown",
   "metadata": {},
   "source": [
    ">f) ¿Cuál es la probilidad de que una persona tenga el mismo cumpleaños que usted? (365 días)"
   ]
  },
  {
   "cell_type": "code",
   "execution_count": null,
   "metadata": {},
   "outputs": [],
   "source": []
  },
  {
   "cell_type": "markdown",
   "metadata": {},
   "source": [
    "## 2. Redes Complejas\n",
    "\n"
   ]
  },
  {
   "cell_type": "markdown",
   "metadata": {},
   "source": [
    "El tema de Redes Complejas (grafos con muchos nodos) ha estado creciendo últimamente, sus orígenes se remontan a fines de los 90. Una de las propuestas para modelar la construcción de estas redes es la siguiente:\n",
    "\n",
    "1. Se inicia con un solo nodo \n",
    "2. En cada iteración se agrega un nuevo nodo.\n",
    "3. La probabilidad de unirse a un nodo viene dado por la siguiente expresión: $ P(Unirse\\,al\\,nodo_i) = \\frac{Grado\\,Nodo_i}{Grado\\,Total\\,Grafo}$ donde el Grado Total del Grafo corresponde a la suma de los grados de cada nodo perteneciente a este.\n",
    "4. Se repite (2) y (3) varias veces hasta tener una red bastante grande.\n",
    "\n",
    "A este tipo de red se les conoce como \"Scale Free\".\n",
    "\n",
    "Un listado de links para refrescar conceptos: \n",
    "\n",
    "* [Grafo](https://es.wikipedia.org/wiki/Grafo)\n",
    "* [Grado de un nodo](https://es.wikipedia.org/wiki/Grado_(teor%C3%ADa_de_grafos))\n",
    "\n",
    "\n",
    ">a) Simule grafos de: 100, 1000 y 5000 nodos de la forma indicada y haga un scatterplot de Cantidad de Nodos v/s Grado del Nodo para los 3 grafos.\n",
    "\n",
    "* Recuerde que las probabilidades se modifican después de agregar un nodo.\n",
    "* Puede hacer una única iteración de 5000 pasos y guardar el estado de la red en 1000, 5000 y 10000.\n",
    "* La matriz de adyacencia le facilitará el trabajo de obtener el grado de cada nodo (no es necesario hacerla, pero si tiene problemas encontrando alguna estructura de datos, esta le puede servir).\n",
    "\n",
    "Matriz de Adyacencia:\n",
    "\n",
    "Es una matriz cuadrada de $NxN$ donde en la posición $i,j$ hay un 1 si entre los nodos $i$ y $j$ hay una arista, de lo contrario esa entrada es 0. La diagonal en este casó será de 0 solamente.\n",
    "\n",
    "\n"
   ]
  },
  {
   "cell_type": "code",
   "execution_count": null,
   "metadata": {},
   "outputs": [],
   "source": []
  },
  {
   "cell_type": "markdown",
   "metadata": {},
   "source": [
    ">b) Observando los gráficos realizados en a) ¿Qué puede decirse acerca de la distribución de grado?"
   ]
  },
  {
   "cell_type": "code",
   "execution_count": null,
   "metadata": {},
   "outputs": [],
   "source": []
  },
  {
   "cell_type": "markdown",
   "metadata": {},
   "source": [
    ">c) Si se quitan aristas con una probabilidad $\\rho$ ¿Cómo cambia la distribución de grado del grafo de 10000 nodos? Genere gráficos de Cantidad de Nodos v/s Grado del Nodo para distintos valores de $\\rho$ para ayudarle en su respuesta. ¿Sigue siendo de libre escala, pierde forma definida o se asemeja a otra distribución?\n"
   ]
  },
  {
   "cell_type": "code",
   "execution_count": null,
   "metadata": {},
   "outputs": [],
   "source": []
  },
  {
   "cell_type": "markdown",
   "metadata": {},
   "source": [
    "## 3. Artistas Musicales\n",
    "\n",
    "En esta sección usted cuenta con dos datasets \"albums.csv\" y \"artists.csv\", el primero cuenta con información de álbums musicales lanzados por diversos artistas como el número de ventas, el estilo musical, puntajes según distintos críticos, etc. El segundo contiene datos sobre diversos artistas, como su nombre, puesto en la banda, pais de origen, etc. \n",
    "\n",
    "Para información más detallada de los datasets [aquí](https://www.kaggle.com/revilrosa/music-label-dataset#artists.csv)"
   ]
  },
  {
   "cell_type": "markdown",
   "metadata": {},
   "source": [
    ">a) Cargue ambos dataset, cuente la cantidad de celdas nulas por columna en c/u y limpielas si cree necesario. "
   ]
  },
  {
   "cell_type": "code",
   "execution_count": null,
   "metadata": {},
   "outputs": [],
   "source": []
  },
  {
   "cell_type": "markdown",
   "metadata": {},
   "source": [
    ">b) Responda las siguientes preguntas utilizando recursos visuales (tablas, gráficos). \n",
    "\n",
    "* Haga un top 10 de los mejores álbumes para cada crítico\n",
    "* En función del puntaje promedio, ordene los géneros musicales de mejor ranking a peor.\n",
    "* Top 5 de países con álbumes mejor calificados.\n",
    "* Top 10 de artistas con más albumes publicados.\n",
    "* ¿Qué generos predominan en los artistas Chilenos?\n",
    "* Separando a los artistas en los que nacieron antes de 1980 y de 1980 en adelante. Si consideramos los años 2005, 2010, 2015 y 2019 ¿cómo han ido evolucionando los puntajes promedio de ambos grupos con el paso del tiempo? ¿Es posible evidenciar alguna tendencia?\n",
    "* Haga una línea del tiempo donde en cada año se indique los 3 géneros con más álbumes publicados* ¿Se evidencia alguna tendencia? Haga la misma línea de tiempo para algún páis en específico de su elección y compare, si en algún año no hubo publicación deje la casilla marcada con \"-\".\n",
    "\n",
    "Para la línea del tiempo se sugiere un formato como el siguiente: \n",
    "\n",
    "| 2000 | 2001 | 2002 | 2003 | 2004 |\n",
    "|------|------|------|------|------|\n",
    "| 1°   | 1°   | 1°   | 1°   | 1°   |\n",
    "| 2°   | 2°   | 2°   | 2°   | 2°   |\n",
    "| 3°   | 3°   | 3°   | -   | 3°   |\n",
    "\n",
    "* ¿Hay alguna diferencia en los géneros que artistas Chilenos, Argentinos, Peruanos y Bolivianos publicaban?"
   ]
  },
  {
   "cell_type": "code",
   "execution_count": null,
   "metadata": {},
   "outputs": [],
   "source": []
  },
  {
   "cell_type": "markdown",
   "metadata": {},
   "source": [
    ">c) Utilizando el siguiente subconjunto de países: \"United States\", \"Chile\", \"Japan\", ¿es el país un buen predictor del puntaje promedio? ¿Y viceversa? Responda utilizando criterios de probabilidad condicional y considere los intervalos del puntaje promedio en los percentiles: $[0,33],[34,66],[67,100]$. ¿Importa si se utiliza solo el subconjunto de datos o el dataset entero? \n",
    "\n",
    "\n",
    "**Bonus +10** El país como predictor del puntaje en cada crítico y viceversa."
   ]
  },
  {
   "cell_type": "code",
   "execution_count": null,
   "metadata": {},
   "outputs": [],
   "source": []
  },
  {
   "cell_type": "markdown",
   "metadata": {},
   "source": [
    ">d) ¿Se puede decir que el género de un álbum es buen predictor del número de ventas? ¿Y viceversa? Responda utilizando criterios de probabilidad condicional. \n",
    "\n",
    "Fije los intervalos de las ventas en los cuartiles "
   ]
  },
  {
   "cell_type": "code",
   "execution_count": null,
   "metadata": {},
   "outputs": [],
   "source": []
  },
  {
   "cell_type": "markdown",
   "metadata": {},
   "source": [
    "## Reglas del Juego y Comentarios \n",
    "\n",
    "+ Errores ortográficos, de redacción y oraciones ambiguas descontarán parte de su puntaje.\n",
    "+ Las dudas deberán ser publicadas en moodle para que sus compañeros puedan beneficiarse de la respuesta, no se aceptarán dudas vía correo ni redes sociales, esto es para fomentar que todos tengan la misma información.\n",
    "+ Cada día de atraso descuenta 25 puntos de la nota final con un máximo de dos días de retraso (después es 0).\n",
    "+ La versión de R que se usará para revisar es 3.6.1\n",
    "+ La versión de Python que se usará para revisar es 3.6.8\n",
    "+ Use cualquier librería que estime conveniente, si requiere de instalación explicitarlo en el README (y bien explicitado).\n",
    "+ Código comentado para facilitar entendimiento.\n",
    "+ Sea formal y claro con su respuesta, **explique su procedimiento y luego responda.** \n",
    "+ Defina bien las secciones de su notebook, el orden siempre es bueno :) [Tips para usar Markdown](https://github.com/adam-p/markdown-here/wiki/Markdown-Cheatsheet)"
   ]
  }
 ],
 "metadata": {
  "kernelspec": {
   "display_name": "Python 3",
   "language": "python",
   "name": "python3"
  },
  "language_info": {
   "codemirror_mode": {
    "name": "ipython",
    "version": 3
   },
   "file_extension": ".py",
   "mimetype": "text/x-python",
   "name": "python",
   "nbconvert_exporter": "python",
   "pygments_lexer": "ipython3",
   "version": "3.7.2"
  }
 },
 "nbformat": 4,
 "nbformat_minor": 2
}
