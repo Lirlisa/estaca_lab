{
 "cells": [
  {
   "cell_type": "markdown",
   "metadata": {},
   "source": [
    "<table style=\"width:100%\">\n",
    "  <tr>\n",
    "    <th align=\"right\"><img src=\"img/dilogo.png\" style=\"float:left;height:90px\"></th>\n",
    "    <th align=\"center\">\n",
    "    <h1 align=\"center\">Laboratorio 2</h1>\n",
    "    <h2 align=\"center\">Profesor: Ricardo Ñanculef</h2>\n",
    "    <h3 align=\"center\">Ayudante: Gabriel Ortega</h3>\n",
    "    <h3 align=\"center\">Alumno1;rol;malla</h3>\n",
    "    <h3 align=\"center\">Alumno2;rol;malla</h3>\n",
    "    <h3 align=\"center\">Septiembre de 2019</h3>\n",
    "    </th> \n",
    "    <th align=\"left\"><img src=\"img/usmlogo.png\" style=\"float:right;height:85px\"></th>\n",
    "  </tr>"
   ]
  },
  {
   "cell_type": "markdown",
   "metadata": {},
   "source": [
    "> <font size = \"+2\"><b>Antes de corregir se correrá su notebook utilizando la función Cell $\\rightarrow$ Run All.</b> <br> <br>\n",
    "Es posible que las simulaciones en este laboratorio se tarden un poco más en ejecutarse, sin embargo, mantenga un tope de 5 minutos.\n",
    "</font>\n",
    "\n",
    "\n",
    "## Instrucciones\n",
    "\n",
    "La modalidad de trabajo será mediante el uso de jupyter notebook. El notebook debe ser desarrollado en parejas o individual y ser entregado el 15 de octubre de 2019.\n",
    "\n",
    "La **modalidad de entrega será un archivo Apellido1_Apellido2_Lab2.zip** que contenga un notebook que incluya todas las preguntas con sus respectivas respuestas, un README que indique la forma correcta de ejecutar su notebook y cualquier archivo/carpeta extra que considere necesario para el correcto funcionamiento de su tarea (no es necesario adjuntar los .csv que se utilicen para trabajar). El laboratorio puede ser trabajado tanto en lenguaje R como en python 3 (para los que usen python 2.X, absténganse a las consecuencias). Lea bien el enunciado.\n",
    "\n",
    "\n",
    "**Cualquier copia detectada implicará nota 0 en el laboratorio correspondiente y se notificará la situación al profesor.**\n",
    "\n",
    "\n"
   ]
  },
  {
   "cell_type": "markdown",
   "metadata": {},
   "source": [
    "## 1. La paradoja del cumpleaños\n",
    "\n",
    "La paradoja del cumpleaños es un problema matemático cuya respuesta es sorprendente dado el contexto del problema. En esta sección usted trabajará con este problema y podrá encontrar la respuesta que sorprendió a muchos. La paradoja es la siguiente: $N$ personas se reunen casualmente ¿Cuál es la probabilidad de que al menos 2 de ellas estén de cumpleaños el mismo día? **Considere año normal de 365 días.**\n",
    "\n",
    "> a) Plantee la obtención de esta probabilidad en función de N. *Hint:* $\\frac{Casos\\;favorables}{Casos\\;posibles}$\n"
   ]
  },
  {
   "cell_type": "code",
   "execution_count": null,
   "metadata": {},
   "outputs": [],
   "source": []
  },
  {
   "cell_type": "markdown",
   "metadata": {},
   "source": [
    "> b) Simule la paradoja del cumpleaños con varios $N \\in [2,365]$ y obtenga la probabilidad empírica de encontrar dos personas con el mismo cumpleaños. Luego haga un gráfico de estas probabilidades en función de $N$ y la fórmula obtenida en a) y compare. \n",
    "\n",
    "*Tip: Como el orden de ejecución es $N\\cdot Simulaciones$ no es necesario que vaya de 1 en 1 con los $N$ puede ir de 3 en 3, 5 en 5, etc.*"
   ]
  },
  {
   "cell_type": "code",
   "execution_count": null,
   "metadata": {},
   "outputs": [],
   "source": [
    "  "
   ]
  },
  {
   "cell_type": "markdown",
   "metadata": {},
   "source": [
    ">c) Mediante simulación obtenga la cantidad de personas necesarias que debe asistir a la reunión para que la probabilidad de que al menos 2 personas estén de cumpleaños sea: 50%, 70% y 95%. Luego, para cada cantidad encontrada compare el valor de su probabilidad teórica mediante la fórmula que encontró en a). \n",
    "\n",
    "¿A qué se debe que al encontrar un valor empírico y evaluarlo en la fórmula de a) se observe un valor diferente que el encontrado? Si esto no le sucedió en su simulación, responda poniéndose en la siguiente situación:\n",
    "\n",
    "- Su simulación le arrojó que 30 es el 50%\n",
    "- F(30) es 0.45, claramente no llega al 50% (de ejemplo solamente)\n",
    "\n",
    "\n",
    "\n",
    "¿A qué se debe ese error?"
   ]
  },
  {
   "cell_type": "code",
   "execution_count": null,
   "metadata": {},
   "outputs": [],
   "source": [
    "   "
   ]
  },
  {
   "cell_type": "markdown",
   "metadata": {},
   "source": [
    ">d) Si ahora nos interesa cuando 3, 4, 5 y 6 personas están de cumpleaños el mismo día. Realice un gráfico similar al del inciso b) pero esta vez con $P_{i}$ en función de $N$ donde $i \\in [2,6]$ Concluya respecto al comportamiento de las gráficas."
   ]
  },
  {
   "cell_type": "code",
   "execution_count": null,
   "metadata": {},
   "outputs": [],
   "source": []
  },
  {
   "cell_type": "markdown",
   "metadata": {},
   "source": [
    ">e) Debido a una falla espacio-temporal usted ha sido re-ubicado a otra dimensión donde los años tienen 1000 días. Necesita comprar algo para comer y no morir de hambre mientras los científicos de dicho universo lo intentan enviar de vuelta a casa. Usted ha decidido apostar con una persona con la base de la paradoja del cumpleaños. ¿Cuántas personas debería haber en la junta para tener al menos una certeza del 90% de que ganará la apuesta?"
   ]
  },
  {
   "cell_type": "code",
   "execution_count": null,
   "metadata": {},
   "outputs": [],
   "source": []
  },
  {
   "cell_type": "markdown",
   "metadata": {},
   "source": [
    ">f) ¿Cuál es la probilidad de que una persona tenga el mismo cumpleaños que usted? (365 días)"
   ]
  },
  {
   "cell_type": "code",
   "execution_count": null,
   "metadata": {},
   "outputs": [],
   "source": []
  },
  {
   "cell_type": "markdown",
   "metadata": {},
   "source": [
    "## 2. Redes Complejas\n",
    "\n"
   ]
  },
  {
   "cell_type": "markdown",
   "metadata": {},
   "source": [
    "El tema de Redes Complejas (grafos con muchos nodos) ha estado creciendo últimamente, sus orígenes se remontan a fines de los 90. Una de las propuestas para modelar la construcción de estas redes es la siguiente:\n",
    "\n",
    "1. Se inicia con un solo nodo \n",
    "2. En cada iteración se agrega un nuevo nodo.\n",
    "3. La probabilidad de unirse a un nodo viene dado por la siguiente expresión: $ P(Unirse\\,al\\,nodo_i) = \\frac{Grado\\,Nodo_i}{Grado\\,Total\\,Grafo}$ donde el Grado Total del Grafo corresponde a la suma de los grados de cada nodo perteneciente a este.\n",
    "4. Se repite (2) y (3) varias veces hasta tener una red bastante grande.\n",
    "\n",
    "A este tipo de red se les conoce como \"Scale Free\".\n",
    "\n",
    "Un listado de links para refrescar conceptos: \n",
    "\n",
    "* [Grafo](https://es.wikipedia.org/wiki/Grafo)\n",
    "* [Grado de un nodo](https://es.wikipedia.org/wiki/Grado_(teor%C3%ADa_de_grafos))\n",
    "\n",
    "\n",
    ">a) Simule grafos de: 100, 1000 y 5000 nodos de la forma indicada y haga un scatterplot de Cantidad de Nodos v/s Grado del Nodo para los 3 grafos.\n",
    "\n",
    "* Recuerde que las probabilidades se modifican después de agregar un nodo.\n",
    "* Puede hacer una única iteración de 5000 pasos y guardar el estado de la red en 1000, 5000 y 10000.\n",
    "* La matriz de adyacencia le facilitará el trabajo de obtener el grado de cada nodo (no es necesario hacerla, pero si tiene problemas encontrando alguna estructura de datos, esta le puede servir).\n",
    "\n",
    "Matriz de Adyacencia:\n",
    "\n",
    "Es una matriz cuadrada de $NxN$ donde en la posición $i,j$ hay un 1 si entre los nodos $i$ y $j$ hay una arista, de lo contrario esa entrada es 0. La diagonal en este casó será de 0 solamente.\n",
    "\n",
    "\n"
   ]
  },
  {
   "cell_type": "code",
   "execution_count": null,
   "metadata": {},
   "outputs": [],
   "source": []
  },
  {
   "cell_type": "markdown",
   "metadata": {},
   "source": [
    ">b) Observando los gráficos realizados en a) ¿Qué puede decirse acerca de la distribución de grado?"
   ]
  },
  {
   "cell_type": "code",
   "execution_count": null,
   "metadata": {},
   "outputs": [],
   "source": []
  },
  {
   "cell_type": "markdown",
   "metadata": {},
   "source": [
    ">c) Si se quitan aristas con una probabilidad $\\rho$ ¿Cómo cambia la distribución de grado del grafo de 10000 nodos? Genere gráficos de Cantidad de Nodos v/s Grado del Nodo para distintos valores de $\\rho$ para ayudarle en su respuesta. ¿Sigue siendo de libre escala, pierde forma definida o se asemeja a otra distribución?\n"
   ]
  },
  {
   "cell_type": "code",
   "execution_count": null,
   "metadata": {},
   "outputs": [],
   "source": []
  },
  {
   "cell_type": "markdown",
   "metadata": {},
   "source": [
    "## 3. Artistas Musicales\n",
    "\n",
    "En esta sección usted cuenta con dos datasets \"albums.csv\" y \"artists.csv\", el primero cuenta con información de álbums musicales lanzados por diversos artistas como el número de ventas, el estilo musical, puntajes según distintos críticos, etc. El segundo contiene datos sobre diversos artistas, como su nombre, puesto en la banda, pais de origen, etc. \n",
    "\n",
    "Para información más detallada de los datasets [aquí](https://www.kaggle.com/revilrosa/music-label-dataset#artists.csv)"
   ]
  },
  {
   "cell_type": "markdown",
   "metadata": {},
   "source": [
    ">a) Cargue ambos dataset, cuente la cantidad de celdas nulas por columna en c/u y limpielas si cree necesario. "
   ]
  },
  {
   "cell_type": "code",
   "execution_count": 3,
   "metadata": {},
   "outputs": [
    {
     "name": "stdout",
     "output_type": "stream",
     "text": [
      "Celdas nulas dataset Artistas\n",
      "id                   0\n",
      "real_name            0\n",
      "art_name         16709\n",
      "role                 0\n",
      "year_of_birth        0\n",
      "country              0\n",
      "city                 0\n",
      "email                0\n",
      "zip_code             0\n",
      "dtype: int64\n",
      "\n",
      "Celdas nulas dataset Albums\n",
      "id                      0\n",
      "artist_id               0\n",
      "album_title             0\n",
      "genre                   0\n",
      "year_of_pub             0\n",
      "num_of_tracks           0\n",
      "num_of_sales            0\n",
      "rolling_stone_critic    0\n",
      "mtv_critic              0\n",
      "music_maniac_critic     0\n",
      "dtype: int64\n"
     ]
    }
   ],
   "source": [
    "import pandas as pd\n",
    "import numpy as np\n",
    "import matplotlib.pyplot as plt\n",
    "\n",
    "df_alb = pd.read_csv(\"albums.csv\")\n",
    "df_art = pd.read_csv(\"artists.csv\")\n",
    "\n",
    "# Se obtienen la cantidad de celdas nulas para cada dataframe\n",
    "print(\"Celdas nulas dataset Artistas\")\n",
    "print(df_art.isnull().sum())\n",
    "print(\"\\nCeldas nulas dataset Albums\")\n",
    "print(df_alb.isnull().sum())"
   ]
  },
  {
   "cell_type": "markdown",
   "metadata": {},
   "source": [
    ">b) Responda las siguientes preguntas utilizando recursos visuales (tablas, gráficos). \n",
    "\n",
    "* Haga un top 10 de los mejores álbumes para cada crítico\n",
    "* En función del puntaje promedio, ordene los géneros musicales de mejor ranking a peor.\n",
    "* Top 5 de países con álbumes mejor calificados.\n",
    "* Top 10 de artistas con más albumes publicados.\n",
    "* ¿Qué generos predominan en los artistas Chilenos?\n",
    "* Separando a los artistas en los que nacieron antes de 1980 y de 1980 en adelante. Si consideramos los años 2005, 2010, 2015 y 2019 ¿cómo han ido evolucionando los puntajes promedio de ambos grupos con el paso del tiempo? ¿Es posible evidenciar alguna tendencia?\n",
    "* Haga una línea del tiempo donde en cada año se indique los 3 géneros con más álbumes publicados* ¿Se evidencia alguna tendencia? Haga la misma línea de tiempo para algún páis en específico de su elección y compare, si en algún año no hubo publicación deje la casilla marcada con \"-\".\n",
    "\n",
    "Para la línea del tiempo se sugiere un formato como el siguiente: \n",
    "\n",
    "| 2000 | 2001 | 2002 | 2003 | 2004 |\n",
    "|------|------|------|------|------|\n",
    "| 1°   | 1°   | 1°   | 1°   | 1°   |\n",
    "| 2°   | 2°   | 2°   | 2°   | 2°   |\n",
    "| 3°   | 3°   | 3°   | -   | 3°   |\n",
    "\n",
    "* ¿Hay alguna diferencia en los géneros que artistas Chilenos, Argentinos, Peruanos y Bolivianos publicaban?"
   ]
  },
  {
   "cell_type": "markdown",
   "metadata": {},
   "source": [
    "##  Top 10 álbumes por críticos"
   ]
  },
  {
   "cell_type": "code",
   "execution_count": 4,
   "metadata": {},
   "outputs": [
    {
     "name": "stdout",
     "output_type": "stream",
     "text": [
      "Top 10 álbums para Rolling Stone\n",
      "                                     album_title  rolling_stone_critic\n",
      "6  Steel Patrol Officer The Queen Panda Pleasant                   5.0\n",
      "4                       Decent Distance Georgian                   4.5\n",
      "5                                           Tall                   4.5\n",
      "0             Call me Cat Moneyless That Doggies                   4.0\n",
      "9                                           Rock                   3.5\n",
      "1                                      Down Mare                   3.0\n",
      "2                             Embarrassed Hungry                   2.5\n",
      "3           Standard Immediate Engineer Slovakia                   1.5\n",
      "8                         Lovers Totally Manager                   1.5\n",
      "7            kneel Llama Hanger Uzbekistan Relax                   0.5\n",
      "\n",
      "Top 10 álbums para MTV\n",
      "                                     album_title  mtv_critic\n",
      "7            kneel Llama Hanger Uzbekistan Relax         5.0\n",
      "1                                      Down Mare         4.0\n",
      "4                       Decent Distance Georgian         2.5\n",
      "3           Standard Immediate Engineer Slovakia         2.0\n",
      "6  Steel Patrol Officer The Queen Panda Pleasant         2.0\n",
      "8                         Lovers Totally Manager         2.0\n",
      "0             Call me Cat Moneyless That Doggies         1.5\n",
      "5                                           Tall         1.5\n",
      "2                             Embarrassed Hungry         1.0\n",
      "9                                           Rock         1.0\n",
      "\n",
      "Top 10 álbums para Music Maniac\n",
      "                                     album_title  music_maniac_critic\n",
      "1                                      Down Mare                  5.0\n",
      "7            kneel Llama Hanger Uzbekistan Relax                  4.5\n",
      "3           Standard Immediate Engineer Slovakia                  4.0\n",
      "9                                           Rock                  3.5\n",
      "0             Call me Cat Moneyless That Doggies                  3.0\n",
      "6  Steel Patrol Officer The Queen Panda Pleasant                  2.5\n",
      "8                         Lovers Totally Manager                  2.5\n",
      "2                             Embarrassed Hungry                  2.0\n",
      "5                                           Tall                  2.0\n",
      "4                       Decent Distance Georgian                  1.0\n"
     ]
    }
   ],
   "source": [
    "# Top álbumes para Rolling Stone\n",
    "print(\"Top 10 álbums para Rolling Stone\")\n",
    "rs_crit = df_alb[[\"album_title\",\"rolling_stone_critic\"]]\n",
    "print(rs_crit[:10].sort_values(by=[\"rolling_stone_critic\"], ascending = False))\n",
    "\n",
    "# Top álbumes para MTV\n",
    "print(\"\\nTop 10 álbums para MTV\")\n",
    "mtv_crit = df_alb[[\"album_title\",\"mtv_critic\"]]\n",
    "print(mtv_crit[:10].sort_values(by=[\"mtv_critic\"], ascending = False))\n",
    "\n",
    "# Top álbumes para Music Mania\n",
    "print(\"\\nTop 10 álbums para Music Maniac\")\n",
    "mm_crit = df_alb[[\"album_title\",\"music_maniac_critic\"]]\n",
    "print(mm_crit[:10].sort_values(by=[\"music_maniac_critic\"], ascending = False))\n"
   ]
  },
  {
   "cell_type": "markdown",
   "metadata": {},
   "source": [
    "## Géneros musicales por ranking"
   ]
  },
  {
   "cell_type": "code",
   "execution_count": 152,
   "metadata": {},
   "outputs": [
    {
     "name": "stdout",
     "output_type": "stream",
     "text": [
      "Wall time: 0 ns\n",
      "genre\n",
      "Indietronica    2.794133\n",
      "Deep House      2.791514\n",
      "Live            2.784077\n",
      "Holy Metal      2.783308\n",
      "Jazz            2.769451\n",
      "Country         2.768941\n",
      "Blues           2.766943\n",
      "Hard Rock       2.766719\n",
      "Pop-Rock        2.765292\n",
      "Punk            2.764545\n",
      "Trap            2.762097\n",
      "K-Pop           2.760070\n",
      "Compilation     2.758196\n",
      "Alternative     2.756121\n",
      "Parody          2.752172\n",
      "Rap             2.751584\n",
      "Folk            2.751482\n",
      "Gospel          2.751245\n",
      "Metal           2.751206\n",
      "Dance           2.750861\n",
      "Rock            2.749518\n",
      "Death Metal     2.747544\n",
      "Unplugged       2.746765\n",
      "Indie           2.744903\n",
      "Progressive     2.744520\n",
      "Western         2.743490\n",
      "Heavy Metal     2.742874\n",
      "Latino          2.742817\n",
      "Electro-Pop     2.739443\n",
      "Pop             2.737223\n",
      "J-Rock          2.736757\n",
      "Brit-Pop        2.732865\n",
      "Black Metal     2.727778\n",
      "Lounge          2.726251\n",
      "Ambient         2.725898\n",
      "Boy Band        2.721137\n",
      "Techno          2.706283\n",
      "Retro           2.695426\n",
      "Name: promedio, dtype: float64\n"
     ]
    }
   ],
   "source": [
    "%time\n",
    "# Se obtiene el promedio de los 3 ctríticos.\n",
    "df_alb[\"promedio\"] = (df_alb[[\"rolling_stone_critic\", \"mtv_critic\", \"music_maniac_critic\"]].sum(axis=1))/3\n",
    "# Se agrupan por género.\n",
    "rank = df_alb.groupby([\"genre\"])[\"promedio\"].mean()\n",
    "print(rank.sort_values(ascending = False))"
   ]
  },
  {
   "cell_type": "markdown",
   "metadata": {},
   "source": [
    "## Top 5 de países con álbumes mejor calificados."
   ]
  },
  {
   "cell_type": "code",
   "execution_count": 151,
   "metadata": {},
   "outputs": [
    {
     "data": {
      "text/plain": [
       "country\n",
       "Namibia        2.876707\n",
       "Australia      2.860554\n",
       "Korea South    2.846759\n",
       "Moldova        2.844828\n",
       "Cape Verde     2.843600\n",
       "Name: promedio, dtype: float64"
      ]
     },
     "execution_count": 151,
     "metadata": {},
     "output_type": "execute_result"
    }
   ],
   "source": [
    "# Se juntan los dos dataframes en uno.\n",
    "df_total = pd.merge(left=df_alb, right=df_art, left_on=\"artist_id\", right_on=\"id\")\n",
    "\n",
    "album = df_total[[\"country\", \"promedio\"]]\n",
    "album.groupby([\"country\"])[\"promedio\"].mean().sort_values(ascending = False)[:5]\n"
   ]
  },
  {
   "cell_type": "markdown",
   "metadata": {},
   "source": [
    "## Top 10 de artistas con más albumes publicados."
   ]
  },
  {
   "cell_type": "code",
   "execution_count": 7,
   "metadata": {},
   "outputs": [
    {
     "name": "stdout",
     "output_type": "stream",
     "text": [
      "real_name            artist_id\n",
      "Mallory W. Sheppard  10708        11\n",
      "Mufutau Mullins      29669         9\n",
      "Meghan Z. Nichols    40017         9\n",
      "Chaim Y. Holcomb     1608          9\n",
      "Addison A. Conway    4044          9\n",
      "Delilah Burnett      11106         9\n",
      "Naomi Meyer          47714         9\n",
      "Wesley Barton        8330          9\n",
      "Doris Sykes          36534         9\n",
      "Nissim Norton        47540         9\n",
      "Name: album_title, dtype: int64\n"
     ]
    }
   ],
   "source": [
    "# Se agrupa por el nombre de su artista con su id y se ordenan por los que tienen mayor cantidad de álbumes publicados.\n",
    "publicados = df_total.groupby([\"real_name\", \"artist_id\"])[\"album_title\"].count().sort_values(ascending = False)[:10]\n",
    "print(publicados)"
   ]
  },
  {
   "cell_type": "markdown",
   "metadata": {},
   "source": [
    "## Géneros que predominan en Chile"
   ]
  },
  {
   "cell_type": "code",
   "execution_count": 154,
   "metadata": {},
   "outputs": [
    {
     "name": "stdout",
     "output_type": "stream",
     "text": [
      "genre\n",
      "Indie          43\n",
      "Pop            26\n",
      "Pop-Rock       18\n",
      "Punk           17\n",
      "Rap            16\n",
      "Rock           14\n",
      "Latino         14\n",
      "Alternative    10\n",
      "Holy Metal     10\n",
      "Jazz           10\n",
      "Name: artist_id, dtype: int64\n"
     ]
    }
   ],
   "source": [
    "# Se ordenan los géneros que predominan en Chile segun la cantidad de artistas por cada género.\n",
    "chile = df_total[df_total[\"country\"] == \"Chile\"].groupby([\"genre\"])[\"artist_id\"].count().sort_values(ascending = False)[:10]\n",
    "print(chile)"
   ]
  },
  {
   "cell_type": "markdown",
   "metadata": {},
   "source": [
    "## Evolución promedio"
   ]
  },
  {
   "cell_type": "code",
   "execution_count": 157,
   "metadata": {},
   "outputs": [
    {
     "name": "stdout",
     "output_type": "stream",
     "text": [
      "Wall time: 0 ns\n"
     ]
    },
    {
     "data": {
      "image/png": "[encoded data removed]",
      "text/plain": [
       "<Figure size 432x288 with 1 Axes>"
      ]
     },
     "metadata": {
      "needs_background": "light"
     },
     "output_type": "display_data"
    }
   ],
   "source": [
    "%time\n",
    "# Se separa el dataframe en dos.\n",
    "df_before = df_total[df_total[\"year_of_birth\"] < 1980]\n",
    "df_after = df_total[df_total[\"year_of_birth\"] > 1980]\n",
    "\n",
    "años = [2005, 2010, 2015, 2019]\n",
    "ls_before = []\n",
    "ls_after = []\n",
    "for año in años:\n",
    "    # Se van agregando los puntajes promedios por cada año a las listas.\n",
    "    ls_before.append(df_before[df_before[\"year_of_pub\"] == año].suma_critic.mean())\n",
    "    ls_after.append(df_after[df_after[\"year_of_pub\"] == año].suma_critic.mean())\n",
    "\n",
    "# Gráfica de los datos\n",
    "plt.plot(años, ls_before, label=\"Antes de 1980\")\n",
    "plt.plot(años, ls_after, label=\"Después de 1980\")\n",
    "plt.xlabel(\"Años\")\n",
    "plt.legend()\n",
    "plt.ylabel(\"Puntajes promedio\")\n",
    "plt.title(\"Evolucion promedios\")\n",
    "plt.show()"
   ]
  },
  {
   "cell_type": "markdown",
   "metadata": {},
   "source": [
    "Los puntajes promedios para los artistas nacidos antes del año 1980 estuvo en descenso desde el 2006 hasta el 2015, pero en los útilmos años ha subido en gran medida. Por otro lado, para los artistas nacidos despúes de 1980 los puntajes promedios bajaron a gran razón durante los años 2005 a 2010 y entre 2015 y 2019\n",
    "\n",
    "En los artistas nacidos antes de 1980 se puede decir que han tenido una tendencia a subir durante los últimos años, mientras que los artistas nacidos después de 1980 tienden a tener periodos de aproximademente 5 años en los cuales bajan sus puntuaciones promedios o las suben considerablemente."
   ]
  },
  {
   "cell_type": "markdown",
   "metadata": {},
   "source": [
    "## Línea del tiempo"
   ]
  },
  {
   "cell_type": "code",
   "execution_count": 105,
   "metadata": {},
   "outputs": [
    {
     "name": "stdout",
     "output_type": "stream",
     "text": [
      "Wall time: 0 ns\n"
     ]
    },
    {
     "data": {
      "text/html": [
       "<div>\n",
       "<style scoped>\n",
       "    .dataframe tbody tr th:only-of-type {\n",
       "        vertical-align: middle;\n",
       "    }\n",
       "\n",
       "    .dataframe tbody tr th {\n",
       "        vertical-align: top;\n",
       "    }\n",
       "\n",
       "    .dataframe thead th {\n",
       "        text-align: right;\n",
       "    }\n",
       "</style>\n",
       "<table border=\"1\" class=\"dataframe\">\n",
       "  <thead>\n",
       "    <tr style=\"text-align: right;\">\n",
       "      <th></th>\n",
       "      <th>2000</th>\n",
       "      <th>2001</th>\n",
       "      <th>2002</th>\n",
       "      <th>2003</th>\n",
       "      <th>2004</th>\n",
       "      <th>2005</th>\n",
       "      <th>2006</th>\n",
       "      <th>2007</th>\n",
       "      <th>2008</th>\n",
       "      <th>2009</th>\n",
       "      <th>2010</th>\n",
       "      <th>2011</th>\n",
       "      <th>2012</th>\n",
       "      <th>2013</th>\n",
       "      <th>2014</th>\n",
       "      <th>2015</th>\n",
       "      <th>2016</th>\n",
       "      <th>2017</th>\n",
       "      <th>2018</th>\n",
       "      <th>2019</th>\n",
       "    </tr>\n",
       "  </thead>\n",
       "  <tbody>\n",
       "    <tr>\n",
       "      <td>0</td>\n",
       "      <td>Indie</td>\n",
       "      <td>Indie</td>\n",
       "      <td>Indie</td>\n",
       "      <td>Indie</td>\n",
       "      <td>Indie</td>\n",
       "      <td>Indie</td>\n",
       "      <td>Indie</td>\n",
       "      <td>Indie</td>\n",
       "      <td>Indie</td>\n",
       "      <td>Indie</td>\n",
       "      <td>Indie</td>\n",
       "      <td>Indie</td>\n",
       "      <td>Indie</td>\n",
       "      <td>Indie</td>\n",
       "      <td>Indie</td>\n",
       "      <td>Indie</td>\n",
       "      <td>Indie</td>\n",
       "      <td>Indie</td>\n",
       "      <td>Indie</td>\n",
       "      <td>Indie</td>\n",
       "    </tr>\n",
       "    <tr>\n",
       "      <td>1</td>\n",
       "      <td>Pop</td>\n",
       "      <td>Pop</td>\n",
       "      <td>Pop</td>\n",
       "      <td>Pop</td>\n",
       "      <td>Pop</td>\n",
       "      <td>Pop</td>\n",
       "      <td>Pop</td>\n",
       "      <td>Pop</td>\n",
       "      <td>Pop</td>\n",
       "      <td>Pop</td>\n",
       "      <td>Pop</td>\n",
       "      <td>Pop</td>\n",
       "      <td>Pop</td>\n",
       "      <td>Pop</td>\n",
       "      <td>Pop</td>\n",
       "      <td>Pop</td>\n",
       "      <td>Pop</td>\n",
       "      <td>Pop</td>\n",
       "      <td>Pop</td>\n",
       "      <td>Pop</td>\n",
       "    </tr>\n",
       "    <tr>\n",
       "      <td>2</td>\n",
       "      <td>Rap</td>\n",
       "      <td>Rap</td>\n",
       "      <td>Rap</td>\n",
       "      <td>Rap</td>\n",
       "      <td>Rap</td>\n",
       "      <td>Rap</td>\n",
       "      <td>Rap</td>\n",
       "      <td>Rap</td>\n",
       "      <td>Rap</td>\n",
       "      <td>Rap</td>\n",
       "      <td>Rap</td>\n",
       "      <td>Rap</td>\n",
       "      <td>Rap</td>\n",
       "      <td>Rap</td>\n",
       "      <td>Rap</td>\n",
       "      <td>Rap</td>\n",
       "      <td>Rap</td>\n",
       "      <td>Rap</td>\n",
       "      <td>Rap</td>\n",
       "      <td>Rap</td>\n",
       "    </tr>\n",
       "  </tbody>\n",
       "</table>\n",
       "</div>"
      ],
      "text/plain": [
       "    2000   2001   2002   2003   2004   2005   2006   2007   2008   2009  \\\n",
       "0  Indie  Indie  Indie  Indie  Indie  Indie  Indie  Indie  Indie  Indie   \n",
       "1    Pop    Pop    Pop    Pop    Pop    Pop    Pop    Pop    Pop    Pop   \n",
       "2    Rap    Rap    Rap    Rap    Rap    Rap    Rap    Rap    Rap    Rap   \n",
       "\n",
       "    2010   2011   2012   2013   2014   2015   2016   2017   2018   2019  \n",
       "0  Indie  Indie  Indie  Indie  Indie  Indie  Indie  Indie  Indie  Indie  \n",
       "1    Pop    Pop    Pop    Pop    Pop    Pop    Pop    Pop    Pop    Pop  \n",
       "2    Rap    Rap    Rap    Rap    Rap    Rap    Rap    Rap    Rap    Rap  "
      ]
     },
     "execution_count": 105,
     "metadata": {},
     "output_type": "execute_result"
    }
   ],
   "source": [
    "%time\n",
    "ls = []\n",
    "dic_year = {}\n",
    "for year in range(2000,2020):\n",
    "    # Se crear un dataframe para cada año.\n",
    "    df_year = df_total[df_total[\"year_of_pub\"] == year]\n",
    "    # Se agrupa por géneros segun los álbumes con más ventas.\n",
    "    gen = df_year.groupby(\"genre\")[\"album_title\"].count().sort_values(ascending = False).to_frame().reset_index()[:3]\n",
    "    # Se agrgan los top 3 géneros a un diccionario que tiene como llave el año. \n",
    "    dic_year[year] = [gen[\"genre\"][0], gen[\"genre\"][1], gen[\"genre\"][2]]\n",
    "\n",
    "# Se transforma el diccionario en DataFrame\n",
    "pd.DataFrame(dic_year)"
   ]
  },
  {
   "cell_type": "code",
   "execution_count": 158,
   "metadata": {
    "scrolled": false
   },
   "outputs": [
    {
     "name": "stdout",
     "output_type": "stream",
     "text": [
      "Wall time: 0 ns\n"
     ]
    },
    {
     "data": {
      "text/html": [
       "<div>\n",
       "<style scoped>\n",
       "    .dataframe tbody tr th:only-of-type {\n",
       "        vertical-align: middle;\n",
       "    }\n",
       "\n",
       "    .dataframe tbody tr th {\n",
       "        vertical-align: top;\n",
       "    }\n",
       "\n",
       "    .dataframe thead th {\n",
       "        text-align: right;\n",
       "    }\n",
       "</style>\n",
       "<table border=\"1\" class=\"dataframe\">\n",
       "  <thead>\n",
       "    <tr style=\"text-align: right;\">\n",
       "      <th></th>\n",
       "      <th>2000</th>\n",
       "      <th>2001</th>\n",
       "      <th>2002</th>\n",
       "      <th>2003</th>\n",
       "      <th>2004</th>\n",
       "      <th>2005</th>\n",
       "      <th>2006</th>\n",
       "      <th>2007</th>\n",
       "      <th>2008</th>\n",
       "      <th>2009</th>\n",
       "      <th>2010</th>\n",
       "      <th>2011</th>\n",
       "      <th>2012</th>\n",
       "      <th>2013</th>\n",
       "      <th>2014</th>\n",
       "      <th>2015</th>\n",
       "      <th>2016</th>\n",
       "      <th>2017</th>\n",
       "      <th>2018</th>\n",
       "      <th>2019</th>\n",
       "    </tr>\n",
       "  </thead>\n",
       "  <tbody>\n",
       "    <tr>\n",
       "      <td>0</td>\n",
       "      <td>Rap</td>\n",
       "      <td>Indie</td>\n",
       "      <td>Latino</td>\n",
       "      <td>Rock</td>\n",
       "      <td>Pop</td>\n",
       "      <td>Indie</td>\n",
       "      <td>Trap</td>\n",
       "      <td>Rap</td>\n",
       "      <td>Black Metal</td>\n",
       "      <td>Pop</td>\n",
       "      <td>Ambient</td>\n",
       "      <td>Pop</td>\n",
       "      <td>Indie</td>\n",
       "      <td>Unplugged</td>\n",
       "      <td>Latino</td>\n",
       "      <td>Unplugged</td>\n",
       "      <td>Rap</td>\n",
       "      <td>Pop</td>\n",
       "      <td>Rap</td>\n",
       "      <td>Trap</td>\n",
       "    </tr>\n",
       "    <tr>\n",
       "      <td>1</td>\n",
       "      <td>Indie</td>\n",
       "      <td>Punk</td>\n",
       "      <td>Pop</td>\n",
       "      <td>Rap</td>\n",
       "      <td>Rap</td>\n",
       "      <td>Brit-Pop</td>\n",
       "      <td>Rock</td>\n",
       "      <td>Pop</td>\n",
       "      <td>Punk</td>\n",
       "      <td>Indie</td>\n",
       "      <td>Lounge</td>\n",
       "      <td>Indie</td>\n",
       "      <td>Pop</td>\n",
       "      <td>Indie</td>\n",
       "      <td>J-Rock</td>\n",
       "      <td>Ambient</td>\n",
       "      <td>Latino</td>\n",
       "      <td>Rap</td>\n",
       "      <td>Dance</td>\n",
       "      <td>Latino</td>\n",
       "    </tr>\n",
       "    <tr>\n",
       "      <td>2</td>\n",
       "      <td>Western</td>\n",
       "      <td>Pop</td>\n",
       "      <td>Live</td>\n",
       "      <td>Pop-Rock</td>\n",
       "      <td>Blues</td>\n",
       "      <td>Ambient</td>\n",
       "      <td>Latino</td>\n",
       "      <td>Electro-Pop</td>\n",
       "      <td>Death Metal</td>\n",
       "      <td>Latino</td>\n",
       "      <td>Rap</td>\n",
       "      <td>Country</td>\n",
       "      <td>Pop-Rock</td>\n",
       "      <td>Blues</td>\n",
       "      <td>Indie</td>\n",
       "      <td>Western</td>\n",
       "      <td>J-Rock</td>\n",
       "      <td>K-Pop</td>\n",
       "      <td>Rock</td>\n",
       "      <td>Punk</td>\n",
       "    </tr>\n",
       "  </tbody>\n",
       "</table>\n",
       "</div>"
      ],
      "text/plain": [
       "      2000   2001    2002      2003   2004      2005    2006         2007  \\\n",
       "0      Rap  Indie  Latino      Rock    Pop     Indie    Trap          Rap   \n",
       "1    Indie   Punk     Pop       Rap    Rap  Brit-Pop    Rock          Pop   \n",
       "2  Western    Pop    Live  Pop-Rock  Blues   Ambient  Latino  Electro-Pop   \n",
       "\n",
       "          2008    2009     2010     2011      2012       2013    2014  \\\n",
       "0  Black Metal     Pop  Ambient      Pop     Indie  Unplugged  Latino   \n",
       "1         Punk   Indie   Lounge    Indie       Pop      Indie  J-Rock   \n",
       "2  Death Metal  Latino      Rap  Country  Pop-Rock      Blues   Indie   \n",
       "\n",
       "        2015    2016   2017   2018    2019  \n",
       "0  Unplugged     Rap    Pop    Rap    Trap  \n",
       "1    Ambient  Latino    Rap  Dance  Latino  \n",
       "2    Western  J-Rock  K-Pop   Rock    Punk  "
      ]
     },
     "execution_count": 158,
     "metadata": {},
     "output_type": "execute_result"
    }
   ],
   "source": [
    "%time\n",
    "ls = []\n",
    "dic_year = {}\n",
    "# Se selecciona un país en específico.\n",
    "df_pais = df_total[df_total[\"country\"] == \"Japan\"]\n",
    "\n",
    "for year in range(2000,2020):\n",
    "    # Se crear un dataframe para cada año.\n",
    "    df_year = df_pais[df_pais[\"year_of_pub\"] == year]\n",
    "    # Se agrupa por géneros segun los álbumes con más ventas.\n",
    "    gen = df_year.groupby(\"genre\")[\"album_title\"].count().sort_values(ascending = False).to_frame().reset_index()[:3]\n",
    "    # Se agrgan los top 3 géneros a un diccionario que tiene como llave el año. \n",
    "    dic_year[year] = [gen[\"genre\"][0], gen[\"genre\"][1], gen[\"genre\"][2]]\n",
    "\n",
    "# Se transforma el diccionario en DataFrame\n",
    "pd.DataFrame(dic_year)"
   ]
  },
  {
   "cell_type": "markdown",
   "metadata": {},
   "source": [
    "Claramente para la mayoría de los países durante los últimos 20 años la tendencia de género con más álbumes publicados son los géneros: Indie, Pop y Rap. Ahora bien, si tomamos un país como Japón se puede observar que los top 3 génetos con más álbumes vendidos varía en cada año, por lo que la tendencia de los géneros mundialmente con más ventas no son necesariamente los géneros con más ventas para cada país.\n"
   ]
  },
  {
   "cell_type": "markdown",
   "metadata": {},
   "source": [
    "## Géneros por artistas chilenos, peruanos, bolivianos y argentinos"
   ]
  },
  {
   "cell_type": "code",
   "execution_count": 149,
   "metadata": {},
   "outputs": [
    {
     "name": "stdout",
     "output_type": "stream",
     "text": [
      "Wall time: 0 ns\n"
     ]
    },
    {
     "data": {
      "text/html": [
       "<div>\n",
       "<style scoped>\n",
       "    .dataframe tbody tr th:only-of-type {\n",
       "        vertical-align: middle;\n",
       "    }\n",
       "\n",
       "    .dataframe tbody tr th {\n",
       "        vertical-align: top;\n",
       "    }\n",
       "\n",
       "    .dataframe thead th {\n",
       "        text-align: right;\n",
       "    }\n",
       "</style>\n",
       "<table border=\"1\" class=\"dataframe\">\n",
       "  <thead>\n",
       "    <tr style=\"text-align: right;\">\n",
       "      <th></th>\n",
       "      <th>Chile</th>\n",
       "      <th>Argentina</th>\n",
       "      <th>Bolivia</th>\n",
       "      <th>Peru</th>\n",
       "    </tr>\n",
       "  </thead>\n",
       "  <tbody>\n",
       "    <tr>\n",
       "      <td>0</td>\n",
       "      <td>Indie</td>\n",
       "      <td>Indie</td>\n",
       "      <td>Indie</td>\n",
       "      <td>Indie</td>\n",
       "    </tr>\n",
       "    <tr>\n",
       "      <td>1</td>\n",
       "      <td>Pop</td>\n",
       "      <td>Pop</td>\n",
       "      <td>Pop</td>\n",
       "      <td>Pop</td>\n",
       "    </tr>\n",
       "    <tr>\n",
       "      <td>2</td>\n",
       "      <td>Pop-Rock</td>\n",
       "      <td>Rock</td>\n",
       "      <td>Rap</td>\n",
       "      <td>Rap</td>\n",
       "    </tr>\n",
       "    <tr>\n",
       "      <td>3</td>\n",
       "      <td>Punk</td>\n",
       "      <td>Rap</td>\n",
       "      <td>Rock</td>\n",
       "      <td>Pop-Rock</td>\n",
       "    </tr>\n",
       "    <tr>\n",
       "      <td>4</td>\n",
       "      <td>Rap</td>\n",
       "      <td>Punk</td>\n",
       "      <td>Dance</td>\n",
       "      <td>Rock</td>\n",
       "    </tr>\n",
       "    <tr>\n",
       "      <td>5</td>\n",
       "      <td>Rock</td>\n",
       "      <td>Dance</td>\n",
       "      <td>Latino</td>\n",
       "      <td>Latino</td>\n",
       "    </tr>\n",
       "    <tr>\n",
       "      <td>6</td>\n",
       "      <td>Latino</td>\n",
       "      <td>Folk</td>\n",
       "      <td>Punk</td>\n",
       "      <td>Heavy Metal</td>\n",
       "    </tr>\n",
       "    <tr>\n",
       "      <td>7</td>\n",
       "      <td>Alternative</td>\n",
       "      <td>Indietronica</td>\n",
       "      <td>Pop-Rock</td>\n",
       "      <td>Boy Band</td>\n",
       "    </tr>\n",
       "    <tr>\n",
       "      <td>8</td>\n",
       "      <td>Holy Metal</td>\n",
       "      <td>Latino</td>\n",
       "      <td>Western</td>\n",
       "      <td>Hard Rock</td>\n",
       "    </tr>\n",
       "    <tr>\n",
       "      <td>9</td>\n",
       "      <td>Jazz</td>\n",
       "      <td>Holy Metal</td>\n",
       "      <td>Jazz</td>\n",
       "      <td>J-Rock</td>\n",
       "    </tr>\n",
       "    <tr>\n",
       "      <td>10</td>\n",
       "      <td>Hard Rock</td>\n",
       "      <td>Country</td>\n",
       "      <td>Indietronica</td>\n",
       "      <td>Compilation</td>\n",
       "    </tr>\n",
       "    <tr>\n",
       "      <td>11</td>\n",
       "      <td>Retro</td>\n",
       "      <td>Boy Band</td>\n",
       "      <td>Trap</td>\n",
       "      <td>Dance</td>\n",
       "    </tr>\n",
       "    <tr>\n",
       "      <td>12</td>\n",
       "      <td>Lounge</td>\n",
       "      <td>Trap</td>\n",
       "      <td>Alternative</td>\n",
       "      <td>Death Metal</td>\n",
       "    </tr>\n",
       "    <tr>\n",
       "      <td>13</td>\n",
       "      <td>Dance</td>\n",
       "      <td>Brit-Pop</td>\n",
       "      <td>Boy Band</td>\n",
       "      <td>Punk</td>\n",
       "    </tr>\n",
       "    <tr>\n",
       "      <td>14</td>\n",
       "      <td>Compilation</td>\n",
       "      <td>Gospel</td>\n",
       "      <td>Deep House</td>\n",
       "      <td>Techno</td>\n",
       "    </tr>\n",
       "    <tr>\n",
       "      <td>15</td>\n",
       "      <td>Boy Band</td>\n",
       "      <td>Lounge</td>\n",
       "      <td>Electro-Pop</td>\n",
       "      <td>Jazz</td>\n",
       "    </tr>\n",
       "    <tr>\n",
       "      <td>16</td>\n",
       "      <td>J-Rock</td>\n",
       "      <td>Live</td>\n",
       "      <td>Unplugged</td>\n",
       "      <td>Indietronica</td>\n",
       "    </tr>\n",
       "    <tr>\n",
       "      <td>17</td>\n",
       "      <td>Techno</td>\n",
       "      <td>Pop-Rock</td>\n",
       "      <td>Metal</td>\n",
       "      <td>Gospel</td>\n",
       "    </tr>\n",
       "    <tr>\n",
       "      <td>18</td>\n",
       "      <td>Trap</td>\n",
       "      <td>K-Pop</td>\n",
       "      <td>Lounge</td>\n",
       "      <td>Blues</td>\n",
       "    </tr>\n",
       "    <tr>\n",
       "      <td>19</td>\n",
       "      <td>Heavy Metal</td>\n",
       "      <td>Electro-Pop</td>\n",
       "      <td>Brit-Pop</td>\n",
       "      <td>Western</td>\n",
       "    </tr>\n",
       "    <tr>\n",
       "      <td>20</td>\n",
       "      <td>Metal</td>\n",
       "      <td>Blues</td>\n",
       "      <td>Techno</td>\n",
       "      <td>Live</td>\n",
       "    </tr>\n",
       "    <tr>\n",
       "      <td>21</td>\n",
       "      <td>Ambient</td>\n",
       "      <td>Techno</td>\n",
       "      <td>Blues</td>\n",
       "      <td>Retro</td>\n",
       "    </tr>\n",
       "    <tr>\n",
       "      <td>22</td>\n",
       "      <td>Country</td>\n",
       "      <td>Hard Rock</td>\n",
       "      <td>J-Rock</td>\n",
       "      <td>Holy Metal</td>\n",
       "    </tr>\n",
       "    <tr>\n",
       "      <td>23</td>\n",
       "      <td>Deep House</td>\n",
       "      <td>Deep House</td>\n",
       "      <td>Retro</td>\n",
       "      <td>Parody</td>\n",
       "    </tr>\n",
       "    <tr>\n",
       "      <td>24</td>\n",
       "      <td>K-Pop</td>\n",
       "      <td>Western</td>\n",
       "      <td>Ambient</td>\n",
       "      <td>Lounge</td>\n",
       "    </tr>\n",
       "    <tr>\n",
       "      <td>25</td>\n",
       "      <td>Gospel</td>\n",
       "      <td>Jazz</td>\n",
       "      <td>Holy Metal</td>\n",
       "      <td>Folk</td>\n",
       "    </tr>\n",
       "    <tr>\n",
       "      <td>26</td>\n",
       "      <td>Live</td>\n",
       "      <td>Death Metal</td>\n",
       "      <td>Folk</td>\n",
       "      <td>K-Pop</td>\n",
       "    </tr>\n",
       "    <tr>\n",
       "      <td>27</td>\n",
       "      <td>Progressive</td>\n",
       "      <td>Metal</td>\n",
       "      <td>K-Pop</td>\n",
       "      <td>Trap</td>\n",
       "    </tr>\n",
       "    <tr>\n",
       "      <td>28</td>\n",
       "      <td>Electro-Pop</td>\n",
       "      <td>Black Metal</td>\n",
       "      <td>Country</td>\n",
       "      <td>Country</td>\n",
       "    </tr>\n",
       "    <tr>\n",
       "      <td>29</td>\n",
       "      <td>Unplugged</td>\n",
       "      <td>Heavy Metal</td>\n",
       "      <td>Compilation</td>\n",
       "      <td>Progressive</td>\n",
       "    </tr>\n",
       "    <tr>\n",
       "      <td>30</td>\n",
       "      <td>Death Metal</td>\n",
       "      <td>Unplugged</td>\n",
       "      <td>Progressive</td>\n",
       "      <td>Unplugged</td>\n",
       "    </tr>\n",
       "    <tr>\n",
       "      <td>31</td>\n",
       "      <td>Parody</td>\n",
       "      <td>J-Rock</td>\n",
       "      <td>Heavy Metal</td>\n",
       "      <td>Metal</td>\n",
       "    </tr>\n",
       "    <tr>\n",
       "      <td>32</td>\n",
       "      <td>Blues</td>\n",
       "      <td>Retro</td>\n",
       "      <td>Death Metal</td>\n",
       "      <td>Deep House</td>\n",
       "    </tr>\n",
       "    <tr>\n",
       "      <td>33</td>\n",
       "      <td>Western</td>\n",
       "      <td>Ambient</td>\n",
       "      <td>Live</td>\n",
       "      <td>Electro-Pop</td>\n",
       "    </tr>\n",
       "    <tr>\n",
       "      <td>34</td>\n",
       "      <td>Brit-Pop</td>\n",
       "      <td>Alternative</td>\n",
       "      <td>Hard Rock</td>\n",
       "      <td>Brit-Pop</td>\n",
       "    </tr>\n",
       "    <tr>\n",
       "      <td>35</td>\n",
       "      <td>Folk</td>\n",
       "      <td>Compilation</td>\n",
       "      <td>Parody</td>\n",
       "      <td>Ambient</td>\n",
       "    </tr>\n",
       "    <tr>\n",
       "      <td>36</td>\n",
       "      <td>Indietronica</td>\n",
       "      <td>Progressive</td>\n",
       "      <td>Gospel</td>\n",
       "      <td>Black Metal</td>\n",
       "    </tr>\n",
       "    <tr>\n",
       "      <td>37</td>\n",
       "      <td>Black Metal</td>\n",
       "      <td>Parody</td>\n",
       "      <td>Black Metal</td>\n",
       "      <td>Alternative</td>\n",
       "    </tr>\n",
       "  </tbody>\n",
       "</table>\n",
       "</div>"
      ],
      "text/plain": [
       "           Chile     Argentina       Bolivia          Peru\n",
       "0          Indie         Indie         Indie         Indie\n",
       "1            Pop           Pop           Pop           Pop\n",
       "2       Pop-Rock          Rock           Rap           Rap\n",
       "3           Punk           Rap          Rock      Pop-Rock\n",
       "4            Rap          Punk         Dance          Rock\n",
       "5           Rock         Dance        Latino        Latino\n",
       "6         Latino          Folk          Punk   Heavy Metal\n",
       "7    Alternative  Indietronica      Pop-Rock      Boy Band\n",
       "8     Holy Metal        Latino       Western     Hard Rock\n",
       "9           Jazz    Holy Metal          Jazz        J-Rock\n",
       "10     Hard Rock       Country  Indietronica   Compilation\n",
       "11         Retro      Boy Band          Trap         Dance\n",
       "12        Lounge          Trap   Alternative   Death Metal\n",
       "13         Dance      Brit-Pop      Boy Band          Punk\n",
       "14   Compilation        Gospel    Deep House        Techno\n",
       "15      Boy Band        Lounge   Electro-Pop          Jazz\n",
       "16        J-Rock          Live     Unplugged  Indietronica\n",
       "17        Techno      Pop-Rock         Metal        Gospel\n",
       "18          Trap         K-Pop        Lounge         Blues\n",
       "19   Heavy Metal   Electro-Pop      Brit-Pop       Western\n",
       "20         Metal         Blues        Techno          Live\n",
       "21       Ambient        Techno         Blues         Retro\n",
       "22       Country     Hard Rock        J-Rock    Holy Metal\n",
       "23    Deep House    Deep House         Retro        Parody\n",
       "24         K-Pop       Western       Ambient        Lounge\n",
       "25        Gospel          Jazz    Holy Metal          Folk\n",
       "26          Live   Death Metal          Folk         K-Pop\n",
       "27   Progressive         Metal         K-Pop          Trap\n",
       "28   Electro-Pop   Black Metal       Country       Country\n",
       "29     Unplugged   Heavy Metal   Compilation   Progressive\n",
       "30   Death Metal     Unplugged   Progressive     Unplugged\n",
       "31        Parody        J-Rock   Heavy Metal         Metal\n",
       "32         Blues         Retro   Death Metal    Deep House\n",
       "33       Western       Ambient          Live   Electro-Pop\n",
       "34      Brit-Pop   Alternative     Hard Rock      Brit-Pop\n",
       "35          Folk   Compilation        Parody       Ambient\n",
       "36  Indietronica   Progressive        Gospel   Black Metal\n",
       "37   Black Metal        Parody   Black Metal   Alternative"
      ]
     },
     "execution_count": 149,
     "metadata": {},
     "output_type": "execute_result"
    }
   ],
   "source": [
    "%time\n",
    "paises = [\"Chile\", \"Argentina\", \"Bolivia\", \"Peru\"]\n",
    "dic_pais = {}\n",
    "for pais in paises:\n",
    "    df_pais = df_total[df_total[\"country\"] == pais]\n",
    "    gen = df_pais.groupby(\"genre\")[\"album_title\"].count().sort_values(ascending = False).to_frame().reset_index()\n",
    "    dic_pais[pais] = [gen[\"genre\"][num] for num in range(0,38)]\n",
    "pd.DataFrame(dic_pais)"
   ]
  },
  {
   "cell_type": "markdown",
   "metadata": {},
   "source": [
    "Se puede ver que los primeros 2 géneros para los cuatro países son los mismos(Indie y Pop), depués de ellos los géneros de Rock y Rap se encuentran presentes dentro de los primeros lugares, pero para el resto de los géneros no se evidencia ninguna tendencia destacable para los países.\n"
   ]
  },
  {
   "cell_type": "markdown",
   "metadata": {},
   "source": [
    ">c) Utilizando el siguiente subconjunto de países: \"United States\", \"Chile\", \"Japan\", ¿es el país un buen predictor del puntaje promedio? ¿Y viceversa? Responda utilizando criterios de probabilidad condicional y considere los intervalos del puntaje promedio en los percentiles: $[0,33],[34,66],[67,100]$. ¿Importa si se utiliza solo el subconjunto de datos o el dataset entero? \n",
    "\n",
    "\n",
    "**Bonus +10** El país como predictor del puntaje en cada crítico y viceversa."
   ]
  },
  {
   "cell_type": "code",
   "execution_count": null,
   "metadata": {},
   "outputs": [],
   "source": []
  },
  {
   "cell_type": "markdown",
   "metadata": {},
   "source": [
    ">d) ¿Se puede decir que el género de un álbum es buen predictor del número de ventas? ¿Y viceversa? Responda utilizando criterios de probabilidad condicional. \n",
    "\n",
    "Fije los intervalos de las ventas en los cuartiles "
   ]
  },
  {
   "cell_type": "code",
   "execution_count": null,
   "metadata": {},
   "outputs": [],
   "source": []
  },
  {
   "cell_type": "markdown",
   "metadata": {},
   "source": [
    "## Reglas del Juego y Comentarios \n",
    "\n",
    "+ Errores ortográficos, de redacción y oraciones ambiguas descontarán parte de su puntaje.\n",
    "+ Las dudas deberán ser publicadas en moodle para que sus compañeros puedan beneficiarse de la respuesta, no se aceptarán dudas vía correo ni redes sociales, esto es para fomentar que todos tengan la misma información.\n",
    "+ Cada día de atraso descuenta 25 puntos de la nota final con un máximo de dos días de retraso (después es 0).\n",
    "+ La versión de R que se usará para revisar es 3.6.1\n",
    "+ La versión de Python que se usará para revisar es 3.6.8\n",
    "+ Use cualquier librería que estime conveniente, si requiere de instalación explicitarlo en el README (y bien explicitado).\n",
    "+ Código comentado para facilitar entendimiento.\n",
    "+ Sea formal y claro con su respuesta, **explique su procedimiento y luego responda.** \n",
    "+ Defina bien las secciones de su notebook, el orden siempre es bueno :) [Tips para usar Markdown](https://github.com/adam-p/markdown-here/wiki/Markdown-Cheatsheet)"
   ]
  }
 ],
 "metadata": {
  "kernelspec": {
   "display_name": "Python 3",
   "language": "python",
   "name": "python3"
  },
  "language_info": {
   "codemirror_mode": {
    "name": "ipython",
    "version": 3
   },
   "file_extension": ".py",
   "mimetype": "text/x-python",
   "name": "python",
   "nbconvert_exporter": "python",
   "pygments_lexer": "ipython3",
   "version": "3.6.8"
  }
 },
 "nbformat": 4,
 "nbformat_minor": 2
}
